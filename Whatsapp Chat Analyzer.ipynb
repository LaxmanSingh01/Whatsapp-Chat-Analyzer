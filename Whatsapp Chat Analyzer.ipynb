{
 "cells": [
  {
   "cell_type": "code",
   "execution_count": 1,
   "id": "d7ca9684",
   "metadata": {},
   "outputs": [
    {
     "name": "stdout",
     "output_type": "stream",
     "text": [
      "Requirement already satisfied: emoji in c:\\users\\laxman singh\\desktop\\extra material\\new folder\\lib\\site-packages (1.5.0)\n"
     ]
    }
   ],
   "source": [
    "!pip install emoji"
   ]
  },
  {
   "cell_type": "code",
   "execution_count": 2,
   "id": "91c9e53d",
   "metadata": {},
   "outputs": [],
   "source": [
    "import regex\n",
    "import pandas as pd\n",
    "import numpy as np\n",
    "import emoji\n",
    "from collections import Counter\n",
    "import matplotlib.pyplot as plt\n",
    "from wordcloud import WordCloud, STOPWORDS, ImageColorGenerator\n",
    "import warnings\n",
    "warnings.filterwarnings('ignore')"
   ]
  },
  {
   "cell_type": "code",
   "execution_count": 3,
   "id": "3608bcc3",
   "metadata": {},
   "outputs": [],
   "source": [
    "def date_time(s):\n",
    "    pattern = '^([0-9]+)(\\/)([0-9]+)(\\/)([0-9]+), ([0-9]+):([0-9]+)[ ]?(AM|PM|am|pm)? -'\n",
    "    result = regex.match(pattern, s)\n",
    "    if result:\n",
    "        return True\n",
    "    return False\n",
    "\n",
    "def find_author(s):\n",
    "    s = s.split(\":\")\n",
    "    if len(s)==2:\n",
    "        return True\n",
    "    else:\n",
    "        return False\n",
    "\n",
    "def getDatapoint(line):\n",
    "    splitline = line.split(' - ')\n",
    "    dateTime = splitline[0]\n",
    "    date, time = dateTime.split(\", \")\n",
    "    message = \" \".join(splitline[1:])\n",
    "    if find_author(message):\n",
    "        splitmessage = message.split(\": \")\n",
    "        author = splitmessage[0]\n",
    "        message = \" \".join(splitmessage[1:])\n",
    "    else:\n",
    "        author= None\n",
    "    return date, time, author, message"
   ]
  },
  {
   "cell_type": "code",
   "execution_count": 4,
   "id": "7f4991e9",
   "metadata": {},
   "outputs": [],
   "source": [
    "data = []\n",
    "conversation = 'cse1 chat.txt'\n",
    "with open(conversation, encoding=\"utf-8\") as fp:\n",
    "    fp.readline()\n",
    "    messageBuffer = []\n",
    "    date, time, author = None, None, None\n",
    "    while True:\n",
    "        line = fp.readline()\n",
    "        if not line:\n",
    "            break\n",
    "        line = line.strip()\n",
    "        if date_time(line):\n",
    "            if len(messageBuffer) > 0:\n",
    "                data.append([date, time, author, ' '.join(messageBuffer)])\n",
    "            messageBuffer.clear()\n",
    "            date, time, author, message = getDatapoint(line)\n",
    "            messageBuffer.append(message)\n",
    "        else:\n",
    "            messageBuffer.append(line)"
   ]
  },
  {
   "cell_type": "code",
   "execution_count": 5,
   "id": "ab698dbb",
   "metadata": {},
   "outputs": [],
   "source": [
    "data = pd.DataFrame(data, columns=[\"Date\", 'Time', 'User', 'Message'])\n",
    "data['Date'] = pd.to_datetime(data['Date'])"
   ]
  },
  {
   "cell_type": "code",
   "execution_count": 6,
   "id": "16d5f117",
   "metadata": {},
   "outputs": [
    {
     "data": {
      "text/html": [
       "<div>\n",
       "<style scoped>\n",
       "    .dataframe tbody tr th:only-of-type {\n",
       "        vertical-align: middle;\n",
       "    }\n",
       "\n",
       "    .dataframe tbody tr th {\n",
       "        vertical-align: top;\n",
       "    }\n",
       "\n",
       "    .dataframe thead th {\n",
       "        text-align: right;\n",
       "    }\n",
       "</style>\n",
       "<table border=\"1\" class=\"dataframe\">\n",
       "  <thead>\n",
       "    <tr style=\"text-align: right;\">\n",
       "      <th></th>\n",
       "      <th>Date</th>\n",
       "      <th>Time</th>\n",
       "      <th>User</th>\n",
       "      <th>Message</th>\n",
       "    </tr>\n",
       "  </thead>\n",
       "  <tbody>\n",
       "    <tr>\n",
       "      <th>0</th>\n",
       "      <td>2019-11-03</td>\n",
       "      <td>9:17 am</td>\n",
       "      <td>None</td>\n",
       "      <td>You were added</td>\n",
       "    </tr>\n",
       "    <tr>\n",
       "      <th>1</th>\n",
       "      <td>2019-04-21</td>\n",
       "      <td>12:36 pm</td>\n",
       "      <td>+91 89308 22375</td>\n",
       "      <td>&lt;Media omitted&gt;</td>\n",
       "    </tr>\n",
       "    <tr>\n",
       "      <th>2</th>\n",
       "      <td>2019-04-22</td>\n",
       "      <td>9:20 am</td>\n",
       "      <td>Ashish Mdu 1</td>\n",
       "      <td>Are ye pps wali mam ab kyu bula rhi h lab k liye</td>\n",
       "    </tr>\n",
       "    <tr>\n",
       "      <th>3</th>\n",
       "      <td>2019-04-22</td>\n",
       "      <td>9:21 am</td>\n",
       "      <td>Ashish Mdu 1</td>\n",
       "      <td>Workshop ki class h koi bta do use</td>\n",
       "    </tr>\n",
       "    <tr>\n",
       "      <th>4</th>\n",
       "      <td>2019-04-22</td>\n",
       "      <td>10:06 am</td>\n",
       "      <td>Sajan 2</td>\n",
       "      <td>Pps ka class kb se hai</td>\n",
       "    </tr>\n",
       "    <tr>\n",
       "      <th>...</th>\n",
       "      <td>...</td>\n",
       "      <td>...</td>\n",
       "      <td>...</td>\n",
       "      <td>...</td>\n",
       "    </tr>\n",
       "    <tr>\n",
       "      <th>582</th>\n",
       "      <td>2021-07-25</td>\n",
       "      <td>7:00 pm</td>\n",
       "      <td>+91 82901 46660</td>\n",
       "      <td>Roll no.  3, 4,13,15,18 Apna project name send...</td>\n",
       "    </tr>\n",
       "    <tr>\n",
       "      <th>583</th>\n",
       "      <td>2021-07-25</td>\n",
       "      <td>7:00 pm</td>\n",
       "      <td>Vineet MDU</td>\n",
       "      <td>Project name=android app (jind terrace) Studen...</td>\n",
       "    </tr>\n",
       "    <tr>\n",
       "      <th>584</th>\n",
       "      <td>2021-07-25</td>\n",
       "      <td>7:01 pm</td>\n",
       "      <td>Nishant</td>\n",
       "      <td>21503 Pet Met</td>\n",
       "    </tr>\n",
       "    <tr>\n",
       "      <th>585</th>\n",
       "      <td>2021-07-25</td>\n",
       "      <td>7:01 pm</td>\n",
       "      <td>Vineet MDU</td>\n",
       "      <td>Yeh final h</td>\n",
       "    </tr>\n",
       "    <tr>\n",
       "      <th>586</th>\n",
       "      <td>2021-07-25</td>\n",
       "      <td>7:03 pm</td>\n",
       "      <td>+91 82901 46660</td>\n",
       "      <td>Roll no. 15 and 18 ne presentation nhi di thi ...</td>\n",
       "    </tr>\n",
       "  </tbody>\n",
       "</table>\n",
       "<p>587 rows × 4 columns</p>\n",
       "</div>"
      ],
      "text/plain": [
       "          Date      Time             User  \\\n",
       "0   2019-11-03   9:17 am             None   \n",
       "1   2019-04-21  12:36 pm  +91 89308 22375   \n",
       "2   2019-04-22   9:20 am     Ashish Mdu 1   \n",
       "3   2019-04-22   9:21 am     Ashish Mdu 1   \n",
       "4   2019-04-22  10:06 am          Sajan 2   \n",
       "..         ...       ...              ...   \n",
       "582 2021-07-25   7:00 pm  +91 82901 46660   \n",
       "583 2021-07-25   7:00 pm       Vineet MDU   \n",
       "584 2021-07-25   7:01 pm          Nishant   \n",
       "585 2021-07-25   7:01 pm       Vineet MDU   \n",
       "586 2021-07-25   7:03 pm  +91 82901 46660   \n",
       "\n",
       "                                               Message  \n",
       "0                                       You were added  \n",
       "1                                      <Media omitted>  \n",
       "2     Are ye pps wali mam ab kyu bula rhi h lab k liye  \n",
       "3                   Workshop ki class h koi bta do use  \n",
       "4                               Pps ka class kb se hai  \n",
       "..                                                 ...  \n",
       "582  Roll no.  3, 4,13,15,18 Apna project name send...  \n",
       "583  Project name=android app (jind terrace) Studen...  \n",
       "584                                      21503 Pet Met  \n",
       "585                                        Yeh final h  \n",
       "586  Roll no. 15 and 18 ne presentation nhi di thi ...  \n",
       "\n",
       "[587 rows x 4 columns]"
      ]
     },
     "execution_count": 6,
     "metadata": {},
     "output_type": "execute_result"
    }
   ],
   "source": [
    "data"
   ]
  },
  {
   "cell_type": "code",
   "execution_count": 7,
   "id": "5076ecda",
   "metadata": {},
   "outputs": [
    {
     "name": "stdout",
     "output_type": "stream",
     "text": [
      "<class 'pandas.core.frame.DataFrame'>\n",
      "RangeIndex: 587 entries, 0 to 586\n",
      "Data columns (total 4 columns):\n",
      " #   Column   Non-Null Count  Dtype         \n",
      "---  ------   --------------  -----         \n",
      " 0   Date     587 non-null    datetime64[ns]\n",
      " 1   Time     587 non-null    object        \n",
      " 2   User     557 non-null    object        \n",
      " 3   Message  587 non-null    object        \n",
      "dtypes: datetime64[ns](1), object(3)\n",
      "memory usage: 18.5+ KB\n"
     ]
    }
   ],
   "source": [
    "data.info()"
   ]
  },
  {
   "cell_type": "code",
   "execution_count": 8,
   "id": "981c1cb8",
   "metadata": {},
   "outputs": [
    {
     "data": {
      "text/plain": [
       "(587, 4)"
      ]
     },
     "execution_count": 8,
     "metadata": {},
     "output_type": "execute_result"
    }
   ],
   "source": [
    "data.shape"
   ]
  },
  {
   "cell_type": "code",
   "execution_count": 9,
   "id": "22b6214e",
   "metadata": {},
   "outputs": [
    {
     "data": {
      "text/plain": [
       "Date        0\n",
       "Time        0\n",
       "User       30\n",
       "Message     0\n",
       "dtype: int64"
      ]
     },
     "execution_count": 9,
     "metadata": {},
     "output_type": "execute_result"
    }
   ],
   "source": [
    "data.isnull().sum()"
   ]
  },
  {
   "cell_type": "code",
   "execution_count": 10,
   "id": "07866ee9",
   "metadata": {},
   "outputs": [],
   "source": [
    "data.dropna(inplace=True)"
   ]
  },
  {
   "cell_type": "code",
   "execution_count": 11,
   "id": "0fe4c8dc",
   "metadata": {},
   "outputs": [],
   "source": [
    "## Lets see the unique user in the group"
   ]
  },
  {
   "cell_type": "code",
   "execution_count": 12,
   "id": "c611171b",
   "metadata": {},
   "outputs": [
    {
     "data": {
      "text/plain": [
       "array(['+91 89308 22375', 'Ashish Mdu 1', 'Sajan 2', '+91 88148 78204',\n",
       "       '+91 73577 08359', '+91 93062 58017', 'Vineet MDU',\n",
       "       '+91 82901 46660', '+91 70155 18613', '+91 72061 66202', 'Nishant',\n",
       "       '+91 93067 04595', '+91 86830 01662', 'Laxman Singh',\n",
       "       'ABHISHEK MDU', '+91 94661 32274', '+91 93540 89750',\n",
       "       '+91 83689 10388', '+918221010064'], dtype=object)"
      ]
     },
     "execution_count": 12,
     "metadata": {},
     "output_type": "execute_result"
    }
   ],
   "source": [
    "data['User'].unique()"
   ]
  },
  {
   "cell_type": "code",
   "execution_count": 13,
   "id": "00bd957c",
   "metadata": {},
   "outputs": [],
   "source": [
    "x='+91 89308 22375','+918221010064','+91 88148 78204','+91 73577 08359','+91 93062 58017','+91 82901 46660', '+91 70155 18613', '+91 72061 66202','+91 93067 04595', '+91 86830 01662', '+91 94661 32274', '+91 93540 89750','+91 83689 10388' \n",
    "y='Prerna','kartikay','Abhishek Saini','Umesh Panchal','Mansi Jangra','Ankita','Mohit','Parveen','Partibha','Manoj Dhillon','Aksha Malik','Akash Gujjar','Bulbul Kaushik'\n",
    "data=data.replace(x,y)"
   ]
  },
  {
   "cell_type": "code",
   "execution_count": 14,
   "id": "44a3cc09",
   "metadata": {},
   "outputs": [
    {
     "data": {
      "text/plain": [
       "array(['Prerna', 'Ashish Mdu 1', 'Sajan 2', 'Abhishek Saini',\n",
       "       'Umesh Panchal', 'Mansi Jangra', 'Vineet MDU', 'Ankita', 'Mohit',\n",
       "       'Parveen', 'Nishant', 'Partibha', 'Manoj Dhillon', 'Laxman Singh',\n",
       "       'ABHISHEK MDU', 'Aksha Malik', 'Akash Gujjar', 'Bulbul Kaushik',\n",
       "       'kartikay'], dtype=object)"
      ]
     },
     "execution_count": 14,
     "metadata": {},
     "output_type": "execute_result"
    }
   ],
   "source": [
    "data['User'].unique()"
   ]
  },
  {
   "cell_type": "code",
   "execution_count": 15,
   "id": "eda0162d",
   "metadata": {},
   "outputs": [
    {
     "data": {
      "text/plain": [
       "19"
      ]
     },
     "execution_count": 15,
     "metadata": {},
     "output_type": "execute_result"
    }
   ],
   "source": [
    "data['User'].nunique()"
   ]
  },
  {
   "cell_type": "code",
   "execution_count": 16,
   "id": "d8b978b1",
   "metadata": {},
   "outputs": [],
   "source": [
    "#### There are 19 unique user in our group"
   ]
  },
  {
   "cell_type": "code",
   "execution_count": 17,
   "id": "a81170a4",
   "metadata": {},
   "outputs": [
    {
     "data": {
      "text/plain": [
       "(557,)"
      ]
     },
     "execution_count": 17,
     "metadata": {},
     "output_type": "execute_result"
    }
   ],
   "source": [
    "#### Let see the no. of Message in the group\n",
    "data['Message'].shape"
   ]
  },
  {
   "cell_type": "code",
   "execution_count": 18,
   "id": "e6e05d86",
   "metadata": {},
   "outputs": [],
   "source": [
    "#### Total no. of messages are 577 in the group"
   ]
  },
  {
   "cell_type": "code",
   "execution_count": 19,
   "id": "dd1e7ee7",
   "metadata": {},
   "outputs": [],
   "source": [
    "#### Most Active Users in the group"
   ]
  },
  {
   "cell_type": "code",
   "execution_count": 20,
   "id": "8141c89b",
   "metadata": {},
   "outputs": [
    {
     "data": {
      "text/plain": [
       "Mansi Jangra      81\n",
       "Abhishek Saini    76\n",
       "Ashish Mdu 1      73\n",
       "Prerna            54\n",
       "Nishant           41\n",
       "Name: User, dtype: int64"
      ]
     },
     "execution_count": 20,
     "metadata": {},
     "output_type": "execute_result"
    }
   ],
   "source": [
    "data['User'].value_counts().head()"
   ]
  },
  {
   "cell_type": "code",
   "execution_count": 21,
   "id": "1f3db1ac",
   "metadata": {},
   "outputs": [
    {
     "data": {
      "text/plain": [
       "Text(0, 0.5, 'No. Of Messages')"
      ]
     },
     "execution_count": 21,
     "metadata": {},
     "output_type": "execute_result"
    },
    {
     "data": {
      "image/png": "[encoded data removed]",
      "text/plain": [
       "<Figure size 864x360 with 1 Axes>"
      ]
     },
     "metadata": {
      "needs_background": "light"
     },
     "output_type": "display_data"
    }
   ],
   "source": [
    "data['User'].value_counts().head().plot(kind='bar',color='red',figsize=(12,5))\n",
    "plt.title('Top 5 active user of the group',fontsize=18,fontweight='bold',color='green')\n",
    "plt.xlabel('Users_Name',fontsize=16,fontweight='bold',color='blue')\n",
    "plt.xticks(fontsize=14,fontweight='bold')\n",
    "plt.ylabel('No. Of Messages',fontsize=16,fontweight='bold',color='blue')"
   ]
  },
  {
   "cell_type": "code",
   "execution_count": 22,
   "id": "847b9473",
   "metadata": {},
   "outputs": [],
   "source": [
    "#### Least Active Users"
   ]
  },
  {
   "cell_type": "code",
   "execution_count": 23,
   "id": "9ef4e530",
   "metadata": {},
   "outputs": [
    {
     "data": {
      "text/plain": [
       "ABHISHEK MDU      8\n",
       "Bulbul Kaushik    6\n",
       "Akash Gujjar      4\n",
       "Parveen           2\n",
       "kartikay          1\n",
       "Name: User, dtype: int64"
      ]
     },
     "execution_count": 23,
     "metadata": {},
     "output_type": "execute_result"
    }
   ],
   "source": [
    "data['User'].value_counts().tail()"
   ]
  },
  {
   "cell_type": "code",
   "execution_count": 24,
   "id": "b4945a6b",
   "metadata": {},
   "outputs": [
    {
     "data": {
      "text/plain": [
       "Text(0, 0.5, 'No. Of Messages')"
      ]
     },
     "execution_count": 24,
     "metadata": {},
     "output_type": "execute_result"
    },
    {
     "data": {
      "image/png": "[encoded data removed]",
      "text/plain": [
       "<Figure size 864x360 with 1 Axes>"
      ]
     },
     "metadata": {
      "needs_background": "light"
     },
     "output_type": "display_data"
    }
   ],
   "source": [
    "data['User'].value_counts().tail().plot(kind='bar',color='red',figsize=(12,5))\n",
    "plt.title('Least active user of the group',fontsize=18,fontweight='bold',color='green')\n",
    "plt.xlabel('Users_Name',fontsize=16,fontweight='bold',color='blue')\n",
    "plt.xticks(fontsize=14,fontweight='bold')\n",
    "plt.ylabel('No. Of Messages',fontsize=16,fontweight='bold',color='blue')"
   ]
  },
  {
   "cell_type": "code",
   "execution_count": 25,
   "id": "90430d1d",
   "metadata": {},
   "outputs": [],
   "source": [
    "#### Lets split the date column"
   ]
  },
  {
   "cell_type": "code",
   "execution_count": 26,
   "id": "6da8c8da",
   "metadata": {},
   "outputs": [
    {
     "data": {
      "text/html": [
       "<div>\n",
       "<style scoped>\n",
       "    .dataframe tbody tr th:only-of-type {\n",
       "        vertical-align: middle;\n",
       "    }\n",
       "\n",
       "    .dataframe tbody tr th {\n",
       "        vertical-align: top;\n",
       "    }\n",
       "\n",
       "    .dataframe thead th {\n",
       "        text-align: right;\n",
       "    }\n",
       "</style>\n",
       "<table border=\"1\" class=\"dataframe\">\n",
       "  <thead>\n",
       "    <tr style=\"text-align: right;\">\n",
       "      <th></th>\n",
       "      <th>Date</th>\n",
       "      <th>Time</th>\n",
       "      <th>User</th>\n",
       "      <th>Message</th>\n",
       "    </tr>\n",
       "  </thead>\n",
       "  <tbody>\n",
       "    <tr>\n",
       "      <th>1</th>\n",
       "      <td>2019-04-21</td>\n",
       "      <td>12:36 pm</td>\n",
       "      <td>Prerna</td>\n",
       "      <td>&lt;Media omitted&gt;</td>\n",
       "    </tr>\n",
       "    <tr>\n",
       "      <th>2</th>\n",
       "      <td>2019-04-22</td>\n",
       "      <td>9:20 am</td>\n",
       "      <td>Ashish Mdu 1</td>\n",
       "      <td>Are ye pps wali mam ab kyu bula rhi h lab k liye</td>\n",
       "    </tr>\n",
       "  </tbody>\n",
       "</table>\n",
       "</div>"
      ],
      "text/plain": [
       "        Date      Time          User  \\\n",
       "1 2019-04-21  12:36 pm        Prerna   \n",
       "2 2019-04-22   9:20 am  Ashish Mdu 1   \n",
       "\n",
       "                                            Message  \n",
       "1                                   <Media omitted>  \n",
       "2  Are ye pps wali mam ab kyu bula rhi h lab k liye  "
      ]
     },
     "execution_count": 26,
     "metadata": {},
     "output_type": "execute_result"
    }
   ],
   "source": [
    "data.head(2)"
   ]
  },
  {
   "cell_type": "code",
   "execution_count": 27,
   "id": "2e282fb6",
   "metadata": {},
   "outputs": [],
   "source": [
    "data['Year']=data['Date'].dt.year\n",
    "data['Month_name']=data['Date'].dt.month_name()\n",
    "data['date']=data['Date'].dt.day\n",
    "data['day_name']=data['Date'].dt.day_name()"
   ]
  },
  {
   "cell_type": "code",
   "execution_count": 28,
   "id": "be6c97d8",
   "metadata": {},
   "outputs": [],
   "source": [
    "data['Month']=data['Date'].dt.month"
   ]
  },
  {
   "cell_type": "code",
   "execution_count": 29,
   "id": "996b010a",
   "metadata": {},
   "outputs": [],
   "source": [
    "data.drop('Date',inplace=True,axis=1)"
   ]
  },
  {
   "cell_type": "code",
   "execution_count": 30,
   "id": "309886b0",
   "metadata": {},
   "outputs": [],
   "source": [
    "data.rename(columns={'date':'Date'},inplace=True)"
   ]
  },
  {
   "cell_type": "code",
   "execution_count": 31,
   "id": "7a618179",
   "metadata": {},
   "outputs": [],
   "source": [
    "## No. of Media Sent by group\n",
    "media_file=data[data['Message'] == '<Media omitted>'].shape[0]"
   ]
  },
  {
   "cell_type": "code",
   "execution_count": 32,
   "id": "db8b17d6",
   "metadata": {},
   "outputs": [
    {
     "data": {
      "text/plain": [
       "41"
      ]
     },
     "execution_count": 32,
     "metadata": {},
     "output_type": "execute_result"
    }
   ],
   "source": [
    "media_file"
   ]
  },
  {
   "cell_type": "code",
   "execution_count": 33,
   "id": "1c699a75",
   "metadata": {},
   "outputs": [
    {
     "name": "stdout",
     "output_type": "stream",
     "text": [
      "Requirement already satisfied: urlextract in c:\\users\\laxman singh\\desktop\\extra material\\new folder\\lib\\site-packages (1.3.0)\n",
      "Requirement already satisfied: idna in c:\\users\\laxman singh\\desktop\\extra material\\new folder\\lib\\site-packages (from urlextract) (2.10)\n",
      "Requirement already satisfied: appdirs in c:\\users\\laxman singh\\desktop\\extra material\\new folder\\lib\\site-packages (from urlextract) (1.4.4)\n",
      "Requirement already satisfied: filelock in c:\\users\\laxman singh\\desktop\\extra material\\new folder\\lib\\site-packages (from urlextract) (3.0.12)\n",
      "Requirement already satisfied: uritools in c:\\users\\laxman singh\\desktop\\extra material\\new folder\\lib\\site-packages (from urlextract) (3.0.2)\n"
     ]
    }
   ],
   "source": [
    "## No. of links shared by the group\n",
    "!pip install urlextract"
   ]
  },
  {
   "cell_type": "code",
   "execution_count": 34,
   "id": "c7918910",
   "metadata": {},
   "outputs": [],
   "source": [
    "data=data.reset_index()"
   ]
  },
  {
   "cell_type": "code",
   "execution_count": 35,
   "id": "7491efc7",
   "metadata": {},
   "outputs": [],
   "source": [
    "## Links Sent in the group"
   ]
  },
  {
   "cell_type": "code",
   "execution_count": 36,
   "id": "4e1886d4",
   "metadata": {},
   "outputs": [],
   "source": [
    "group_url=[]\n",
    "from urlextract import URLExtract\n",
    "extractor = URLExtract()\n",
    "for i in range(1,len(data['Message'])):\n",
    "    urls = extractor.find_urls(data['Message'][i])\n",
    "    group_url.extend(urls)"
   ]
  },
  {
   "cell_type": "code",
   "execution_count": 37,
   "id": "493dddc0",
   "metadata": {},
   "outputs": [
    {
     "data": {
      "text/plain": [
       "['b.tech',\n",
       " 'https://docs.google.com/forms/d/e/1FAIpQLSfQb2IAYDba4JK5x4RNkZIOh2M7tRIDeYynYEiY8cSBTc-qXg/viewform']"
      ]
     },
     "execution_count": 37,
     "metadata": {},
     "output_type": "execute_result"
    }
   ],
   "source": [
    "group_url"
   ]
  },
  {
   "cell_type": "code",
   "execution_count": 38,
   "id": "95720cbb",
   "metadata": {},
   "outputs": [],
   "source": [
    "## Total No. of Words in the group messages"
   ]
  },
  {
   "cell_type": "code",
   "execution_count": 39,
   "id": "48926081",
   "metadata": {},
   "outputs": [],
   "source": [
    "words=[]\n",
    "for i in data['Message'].str.split():\n",
    "    words.append(i)"
   ]
  },
  {
   "cell_type": "code",
   "execution_count": 40,
   "id": "e1427171",
   "metadata": {},
   "outputs": [
    {
     "data": {
      "text/plain": [
       "557"
      ]
     },
     "execution_count": 40,
     "metadata": {},
     "output_type": "execute_result"
    }
   ],
   "source": [
    "len(words)"
   ]
  },
  {
   "cell_type": "code",
   "execution_count": 41,
   "id": "f62d56fb",
   "metadata": {},
   "outputs": [],
   "source": [
    "#### Most Busy day"
   ]
  },
  {
   "cell_type": "code",
   "execution_count": 42,
   "id": "22648c32",
   "metadata": {},
   "outputs": [
    {
     "data": {
      "text/html": [
       "<div>\n",
       "<style scoped>\n",
       "    .dataframe tbody tr th:only-of-type {\n",
       "        vertical-align: middle;\n",
       "    }\n",
       "\n",
       "    .dataframe tbody tr th {\n",
       "        vertical-align: top;\n",
       "    }\n",
       "\n",
       "    .dataframe thead th {\n",
       "        text-align: right;\n",
       "    }\n",
       "</style>\n",
       "<table border=\"1\" class=\"dataframe\">\n",
       "  <thead>\n",
       "    <tr style=\"text-align: right;\">\n",
       "      <th></th>\n",
       "      <th>index</th>\n",
       "      <th>Time</th>\n",
       "      <th>User</th>\n",
       "      <th>Message</th>\n",
       "      <th>Year</th>\n",
       "      <th>Month_name</th>\n",
       "      <th>Date</th>\n",
       "      <th>day_name</th>\n",
       "      <th>Month</th>\n",
       "    </tr>\n",
       "  </thead>\n",
       "  <tbody>\n",
       "    <tr>\n",
       "      <th>0</th>\n",
       "      <td>1</td>\n",
       "      <td>12:36 pm</td>\n",
       "      <td>Prerna</td>\n",
       "      <td>&lt;Media omitted&gt;</td>\n",
       "      <td>2019</td>\n",
       "      <td>April</td>\n",
       "      <td>21</td>\n",
       "      <td>Sunday</td>\n",
       "      <td>4</td>\n",
       "    </tr>\n",
       "    <tr>\n",
       "      <th>1</th>\n",
       "      <td>2</td>\n",
       "      <td>9:20 am</td>\n",
       "      <td>Ashish Mdu 1</td>\n",
       "      <td>Are ye pps wali mam ab kyu bula rhi h lab k liye</td>\n",
       "      <td>2019</td>\n",
       "      <td>April</td>\n",
       "      <td>22</td>\n",
       "      <td>Monday</td>\n",
       "      <td>4</td>\n",
       "    </tr>\n",
       "    <tr>\n",
       "      <th>2</th>\n",
       "      <td>3</td>\n",
       "      <td>9:21 am</td>\n",
       "      <td>Ashish Mdu 1</td>\n",
       "      <td>Workshop ki class h koi bta do use</td>\n",
       "      <td>2019</td>\n",
       "      <td>April</td>\n",
       "      <td>22</td>\n",
       "      <td>Monday</td>\n",
       "      <td>4</td>\n",
       "    </tr>\n",
       "    <tr>\n",
       "      <th>3</th>\n",
       "      <td>4</td>\n",
       "      <td>10:06 am</td>\n",
       "      <td>Sajan 2</td>\n",
       "      <td>Pps ka class kb se hai</td>\n",
       "      <td>2019</td>\n",
       "      <td>April</td>\n",
       "      <td>22</td>\n",
       "      <td>Monday</td>\n",
       "      <td>4</td>\n",
       "    </tr>\n",
       "    <tr>\n",
       "      <th>4</th>\n",
       "      <td>5</td>\n",
       "      <td>10:55 am</td>\n",
       "      <td>Abhishek Saini</td>\n",
       "      <td>&lt;Media omitted&gt;</td>\n",
       "      <td>2019</td>\n",
       "      <td>April</td>\n",
       "      <td>22</td>\n",
       "      <td>Monday</td>\n",
       "      <td>4</td>\n",
       "    </tr>\n",
       "  </tbody>\n",
       "</table>\n",
       "</div>"
      ],
      "text/plain": [
       "   index      Time            User  \\\n",
       "0      1  12:36 pm          Prerna   \n",
       "1      2   9:20 am    Ashish Mdu 1   \n",
       "2      3   9:21 am    Ashish Mdu 1   \n",
       "3      4  10:06 am         Sajan 2   \n",
       "4      5  10:55 am  Abhishek Saini   \n",
       "\n",
       "                                            Message  Year Month_name  Date  \\\n",
       "0                                   <Media omitted>  2019      April    21   \n",
       "1  Are ye pps wali mam ab kyu bula rhi h lab k liye  2019      April    22   \n",
       "2                Workshop ki class h koi bta do use  2019      April    22   \n",
       "3                            Pps ka class kb se hai  2019      April    22   \n",
       "4                                   <Media omitted>  2019      April    22   \n",
       "\n",
       "  day_name  Month  \n",
       "0   Sunday      4  \n",
       "1   Monday      4  \n",
       "2   Monday      4  \n",
       "3   Monday      4  \n",
       "4   Monday      4  "
      ]
     },
     "execution_count": 42,
     "metadata": {},
     "output_type": "execute_result"
    }
   ],
   "source": [
    "data.head()"
   ]
  },
  {
   "cell_type": "code",
   "execution_count": 43,
   "id": "2ea697e6",
   "metadata": {},
   "outputs": [],
   "source": [
    "busy_day=data.groupby(['User','day_name'])['Message'].count().reset_index()"
   ]
  },
  {
   "cell_type": "code",
   "execution_count": 44,
   "id": "49ae37ed",
   "metadata": {},
   "outputs": [
    {
     "data": {
      "text/plain": [
       "Tuesday      18\n",
       "Friday       17\n",
       "Thursday     15\n",
       "Monday       15\n",
       "Wednesday    14\n",
       "Saturday     12\n",
       "Sunday       10\n",
       "Name: day_name, dtype: int64"
      ]
     },
     "execution_count": 44,
     "metadata": {},
     "output_type": "execute_result"
    }
   ],
   "source": [
    "busy_day['day_name'].value_counts()"
   ]
  },
  {
   "cell_type": "code",
   "execution_count": 45,
   "id": "e30e91b6",
   "metadata": {},
   "outputs": [
    {
     "data": {
      "text/plain": [
       "Text(0, 0.5, 'No. Of Messages')"
      ]
     },
     "execution_count": 45,
     "metadata": {},
     "output_type": "execute_result"
    },
    {
     "data": {
      "image/png": "[encoded data removed]",
      "text/plain": [
       "<Figure size 864x360 with 1 Axes>"
      ]
     },
     "metadata": {
      "needs_background": "light"
     },
     "output_type": "display_data"
    }
   ],
   "source": [
    "busy_day['day_name'].value_counts().plot(kind='bar',color='red',figsize=(12,5))\n",
    "plt.title('Most Busy Day',fontsize=18,fontweight='bold',color='green')\n",
    "plt.xlabel('Day',fontsize=16,fontweight='bold',color='blue')\n",
    "plt.xticks(fontsize=14,fontweight='bold')\n",
    "plt.ylabel('No. Of Messages',fontsize=16,fontweight='bold',color='blue')"
   ]
  },
  {
   "cell_type": "code",
   "execution_count": 46,
   "id": "92c9c421",
   "metadata": {},
   "outputs": [],
   "source": [
    "busy_month=data.groupby(['User','Month_name'])['Message'].count().reset_index()"
   ]
  },
  {
   "cell_type": "code",
   "execution_count": 47,
   "id": "e5aefedd",
   "metadata": {},
   "outputs": [
    {
     "data": {
      "text/html": [
       "<div>\n",
       "<style scoped>\n",
       "    .dataframe tbody tr th:only-of-type {\n",
       "        vertical-align: middle;\n",
       "    }\n",
       "\n",
       "    .dataframe tbody tr th {\n",
       "        vertical-align: top;\n",
       "    }\n",
       "\n",
       "    .dataframe thead th {\n",
       "        text-align: right;\n",
       "    }\n",
       "</style>\n",
       "<table border=\"1\" class=\"dataframe\">\n",
       "  <thead>\n",
       "    <tr style=\"text-align: right;\">\n",
       "      <th></th>\n",
       "      <th>User</th>\n",
       "      <th>Month_name</th>\n",
       "      <th>Message</th>\n",
       "    </tr>\n",
       "  </thead>\n",
       "  <tbody>\n",
       "    <tr>\n",
       "      <th>0</th>\n",
       "      <td>ABHISHEK MDU</td>\n",
       "      <td>April</td>\n",
       "      <td>3</td>\n",
       "    </tr>\n",
       "    <tr>\n",
       "      <th>1</th>\n",
       "      <td>ABHISHEK MDU</td>\n",
       "      <td>July</td>\n",
       "      <td>1</td>\n",
       "    </tr>\n",
       "    <tr>\n",
       "      <th>2</th>\n",
       "      <td>ABHISHEK MDU</td>\n",
       "      <td>June</td>\n",
       "      <td>1</td>\n",
       "    </tr>\n",
       "    <tr>\n",
       "      <th>3</th>\n",
       "      <td>ABHISHEK MDU</td>\n",
       "      <td>October</td>\n",
       "      <td>2</td>\n",
       "    </tr>\n",
       "    <tr>\n",
       "      <th>4</th>\n",
       "      <td>ABHISHEK MDU</td>\n",
       "      <td>September</td>\n",
       "      <td>1</td>\n",
       "    </tr>\n",
       "    <tr>\n",
       "      <th>...</th>\n",
       "      <td>...</td>\n",
       "      <td>...</td>\n",
       "      <td>...</td>\n",
       "    </tr>\n",
       "    <tr>\n",
       "      <th>111</th>\n",
       "      <td>Vineet MDU</td>\n",
       "      <td>May</td>\n",
       "      <td>1</td>\n",
       "    </tr>\n",
       "    <tr>\n",
       "      <th>112</th>\n",
       "      <td>Vineet MDU</td>\n",
       "      <td>November</td>\n",
       "      <td>1</td>\n",
       "    </tr>\n",
       "    <tr>\n",
       "      <th>113</th>\n",
       "      <td>Vineet MDU</td>\n",
       "      <td>October</td>\n",
       "      <td>1</td>\n",
       "    </tr>\n",
       "    <tr>\n",
       "      <th>114</th>\n",
       "      <td>Vineet MDU</td>\n",
       "      <td>September</td>\n",
       "      <td>4</td>\n",
       "    </tr>\n",
       "    <tr>\n",
       "      <th>115</th>\n",
       "      <td>kartikay</td>\n",
       "      <td>July</td>\n",
       "      <td>1</td>\n",
       "    </tr>\n",
       "  </tbody>\n",
       "</table>\n",
       "<p>116 rows × 3 columns</p>\n",
       "</div>"
      ],
      "text/plain": [
       "             User Month_name  Message\n",
       "0    ABHISHEK MDU      April        3\n",
       "1    ABHISHEK MDU       July        1\n",
       "2    ABHISHEK MDU       June        1\n",
       "3    ABHISHEK MDU    October        2\n",
       "4    ABHISHEK MDU  September        1\n",
       "..            ...        ...      ...\n",
       "111    Vineet MDU        May        1\n",
       "112    Vineet MDU   November        1\n",
       "113    Vineet MDU    October        1\n",
       "114    Vineet MDU  September        4\n",
       "115      kartikay       July        1\n",
       "\n",
       "[116 rows x 3 columns]"
      ]
     },
     "execution_count": 47,
     "metadata": {},
     "output_type": "execute_result"
    }
   ],
   "source": [
    "busy_month"
   ]
  },
  {
   "cell_type": "code",
   "execution_count": 48,
   "id": "82870551",
   "metadata": {},
   "outputs": [
    {
     "data": {
      "text/plain": [
       "April        16\n",
       "July         15\n",
       "September    15\n",
       "June         15\n",
       "October      13\n",
       "August       11\n",
       "February      9\n",
       "May           8\n",
       "March         6\n",
       "November      6\n",
       "December      2\n",
       "Name: Month_name, dtype: int64"
      ]
     },
     "execution_count": 48,
     "metadata": {},
     "output_type": "execute_result"
    }
   ],
   "source": [
    "busy_month['Month_name'].value_counts()"
   ]
  },
  {
   "cell_type": "code",
   "execution_count": 49,
   "id": "cdfaea7f",
   "metadata": {},
   "outputs": [
    {
     "data": {
      "text/plain": [
       "Text(0, 0.5, 'No. Of Messages')"
      ]
     },
     "execution_count": 49,
     "metadata": {},
     "output_type": "execute_result"
    },
    {
     "data": {
      "image/png": "[encoded data removed]",
      "text/plain": [
       "<Figure size 864x360 with 1 Axes>"
      ]
     },
     "metadata": {
      "needs_background": "light"
     },
     "output_type": "display_data"
    }
   ],
   "source": [
    "busy_month['Month_name'].value_counts().plot(kind='bar',color='red',figsize=(12,5))\n",
    "plt.title('Most Busy Month',fontsize=18,fontweight='bold',color='green')\n",
    "plt.xlabel('Months',fontsize=16,fontweight='bold',color='blue')\n",
    "plt.xticks(fontsize=14,fontweight='bold')\n",
    "plt.ylabel('No. Of Messages',fontsize=16,fontweight='bold',color='blue')"
   ]
  },
  {
   "cell_type": "code",
   "execution_count": 50,
   "id": "c5196deb",
   "metadata": {},
   "outputs": [],
   "source": [
    "busy_year=data.groupby(['User','Year'])['Message'].count().reset_index()"
   ]
  },
  {
   "cell_type": "code",
   "execution_count": 51,
   "id": "65f8d46e",
   "metadata": {},
   "outputs": [
    {
     "data": {
      "text/plain": [
       "2019    17\n",
       "2020    16\n",
       "2021    15\n",
       "Name: Year, dtype: int64"
      ]
     },
     "execution_count": 51,
     "metadata": {},
     "output_type": "execute_result"
    }
   ],
   "source": [
    "busy_year['Year'].value_counts()"
   ]
  },
  {
   "cell_type": "code",
   "execution_count": 52,
   "id": "431d1b1c",
   "metadata": {},
   "outputs": [
    {
     "data": {
      "text/plain": [
       "Text(0, 0.5, 'No. Of Messages')"
      ]
     },
     "execution_count": 52,
     "metadata": {},
     "output_type": "execute_result"
    },
    {
     "data": {
      "image/png": "[encoded data removed]",
      "text/plain": [
       "<Figure size 864x360 with 1 Axes>"
      ]
     },
     "metadata": {
      "needs_background": "light"
     },
     "output_type": "display_data"
    }
   ],
   "source": [
    "busy_year['Year'].value_counts().plot(kind='bar',color='red',figsize=(12,5))\n",
    "plt.title('Most Busy Year',fontsize=18,fontweight='bold',color='green')\n",
    "plt.xlabel('Year',fontsize=16,fontweight='bold',color='blue')\n",
    "plt.xticks(fontsize=14,fontweight='bold')\n",
    "plt.ylabel('No. Of Messages',fontsize=16,fontweight='bold',color='blue')"
   ]
  },
  {
   "cell_type": "code",
   "execution_count": 53,
   "id": "fc7eb743",
   "metadata": {},
   "outputs": [
    {
     "data": {
      "image/png": "[encoded data removed]",
      "text/plain": [
       "<Figure size 576x360 with 1 Axes>"
      ]
     },
     "metadata": {
      "needs_background": "light"
     },
     "output_type": "display_data"
    }
   ],
   "source": [
    "plt.figure(figsize=(8,5))\n",
    "time= data['Time'].value_counts().head(20)\n",
    "tx = time.plot.bar()\n",
    "plt.xlabel('Time',fontdict={'fontsize': 12,'fontweight': 10})\n",
    "plt.ylabel('No. of messages',fontdict={'fontsize': 12,'fontweight': 10})\n",
    "plt.title('Analysis of time when Group was highly active.',fontdict={'fontsize': 18,'fontweight': 8,'color' :'red'})\n",
    "plt.show()"
   ]
  },
  {
   "cell_type": "code",
   "execution_count": 54,
   "id": "7caa1254",
   "metadata": {},
   "outputs": [],
   "source": [
    "## Lets find the monthly timeline\n",
    "monthly_timeline=data.groupby(['Month','Month_name','Year'])['Message'].count().reset_index()"
   ]
  },
  {
   "cell_type": "code",
   "execution_count": 55,
   "id": "12c347b4",
   "metadata": {},
   "outputs": [],
   "source": [
    "time = []\n",
    "for i in range(monthly_timeline.shape[0]):\n",
    "    time.append(monthly_timeline['Month_name'][i] + \"-\" + str(monthly_timeline['Year'][i]))\n"
   ]
  },
  {
   "cell_type": "code",
   "execution_count": 56,
   "id": "1ddfed7e",
   "metadata": {},
   "outputs": [],
   "source": [
    "monthly_timeline['Time']=time"
   ]
  },
  {
   "cell_type": "code",
   "execution_count": 57,
   "id": "f17891f5",
   "metadata": {},
   "outputs": [
    {
     "data": {
      "text/html": [
       "<div>\n",
       "<style scoped>\n",
       "    .dataframe tbody tr th:only-of-type {\n",
       "        vertical-align: middle;\n",
       "    }\n",
       "\n",
       "    .dataframe tbody tr th {\n",
       "        vertical-align: top;\n",
       "    }\n",
       "\n",
       "    .dataframe thead th {\n",
       "        text-align: right;\n",
       "    }\n",
       "</style>\n",
       "<table border=\"1\" class=\"dataframe\">\n",
       "  <thead>\n",
       "    <tr style=\"text-align: right;\">\n",
       "      <th></th>\n",
       "      <th>Month</th>\n",
       "      <th>Month_name</th>\n",
       "      <th>Year</th>\n",
       "      <th>Message</th>\n",
       "      <th>Time</th>\n",
       "    </tr>\n",
       "  </thead>\n",
       "  <tbody>\n",
       "    <tr>\n",
       "      <th>0</th>\n",
       "      <td>2</td>\n",
       "      <td>February</td>\n",
       "      <td>2019</td>\n",
       "      <td>12</td>\n",
       "      <td>February-2019</td>\n",
       "    </tr>\n",
       "    <tr>\n",
       "      <th>1</th>\n",
       "      <td>2</td>\n",
       "      <td>February</td>\n",
       "      <td>2020</td>\n",
       "      <td>20</td>\n",
       "      <td>February-2020</td>\n",
       "    </tr>\n",
       "    <tr>\n",
       "      <th>2</th>\n",
       "      <td>2</td>\n",
       "      <td>February</td>\n",
       "      <td>2021</td>\n",
       "      <td>7</td>\n",
       "      <td>February-2021</td>\n",
       "    </tr>\n",
       "    <tr>\n",
       "      <th>3</th>\n",
       "      <td>3</td>\n",
       "      <td>March</td>\n",
       "      <td>2019</td>\n",
       "      <td>26</td>\n",
       "      <td>March-2019</td>\n",
       "    </tr>\n",
       "    <tr>\n",
       "      <th>4</th>\n",
       "      <td>4</td>\n",
       "      <td>April</td>\n",
       "      <td>2019</td>\n",
       "      <td>120</td>\n",
       "      <td>April-2019</td>\n",
       "    </tr>\n",
       "  </tbody>\n",
       "</table>\n",
       "</div>"
      ],
      "text/plain": [
       "   Month Month_name  Year  Message           Time\n",
       "0      2   February  2019       12  February-2019\n",
       "1      2   February  2020       20  February-2020\n",
       "2      2   February  2021        7  February-2021\n",
       "3      3      March  2019       26     March-2019\n",
       "4      4      April  2019      120     April-2019"
      ]
     },
     "execution_count": 57,
     "metadata": {},
     "output_type": "execute_result"
    }
   ],
   "source": [
    "monthly_timeline.head()"
   ]
  },
  {
   "cell_type": "code",
   "execution_count": 76,
   "id": "b5ded880",
   "metadata": {},
   "outputs": [
    {
     "data": {
      "text/plain": [
       "Text(0.5, 1.0, 'Monthly Timeline')"
      ]
     },
     "execution_count": 76,
     "metadata": {},
     "output_type": "execute_result"
    },
    {
     "data": {
      "image/png": "[encoded data removed]",
      "text/plain": [
       "<Figure size 864x432 with 1 Axes>"
      ]
     },
     "metadata": {
      "needs_background": "light"
     },
     "output_type": "display_data"
    }
   ],
   "source": [
    "plt.figure(figsize=(12,6))\n",
    "plt.plot(monthly_timeline['Time'],monthly_timeline['Message'])\n",
    "plt.xticks(rotation='vertical',fontsize=14,fontweight='bold')\n",
    "plt.xlabel('Time',fontsize=16,fontweight='bold')\n",
    "plt.ylabel('Messages',fontsize=16,fontweight='bold')\n",
    "plt.title('Monthly Timeline',fontsize=18,fontweight='bold',color='red')"
   ]
  },
  {
   "cell_type": "code",
   "execution_count": 59,
   "id": "1c21c7cd",
   "metadata": {},
   "outputs": [],
   "source": [
    "## Lets find the daily_timeline \n"
   ]
  },
  {
   "cell_type": "code",
   "execution_count": 60,
   "id": "9281b887",
   "metadata": {},
   "outputs": [],
   "source": [
    "## Lets find the monthly timeline\n",
    "daily_timeline=data.groupby(['Date','Year'])['Message'].count().reset_index()"
   ]
  },
  {
   "cell_type": "code",
   "execution_count": 61,
   "id": "aee7633b",
   "metadata": {},
   "outputs": [
    {
     "data": {
      "text/html": [
       "<div>\n",
       "<style scoped>\n",
       "    .dataframe tbody tr th:only-of-type {\n",
       "        vertical-align: middle;\n",
       "    }\n",
       "\n",
       "    .dataframe tbody tr th {\n",
       "        vertical-align: top;\n",
       "    }\n",
       "\n",
       "    .dataframe thead th {\n",
       "        text-align: right;\n",
       "    }\n",
       "</style>\n",
       "<table border=\"1\" class=\"dataframe\">\n",
       "  <thead>\n",
       "    <tr style=\"text-align: right;\">\n",
       "      <th></th>\n",
       "      <th>Date</th>\n",
       "      <th>Year</th>\n",
       "      <th>Message</th>\n",
       "    </tr>\n",
       "  </thead>\n",
       "  <tbody>\n",
       "    <tr>\n",
       "      <th>0</th>\n",
       "      <td>2</td>\n",
       "      <td>2020</td>\n",
       "      <td>18</td>\n",
       "    </tr>\n",
       "    <tr>\n",
       "      <th>1</th>\n",
       "      <td>2</td>\n",
       "      <td>2021</td>\n",
       "      <td>22</td>\n",
       "    </tr>\n",
       "    <tr>\n",
       "      <th>2</th>\n",
       "      <td>5</td>\n",
       "      <td>2019</td>\n",
       "      <td>6</td>\n",
       "    </tr>\n",
       "    <tr>\n",
       "      <th>3</th>\n",
       "      <td>6</td>\n",
       "      <td>2019</td>\n",
       "      <td>1</td>\n",
       "    </tr>\n",
       "    <tr>\n",
       "      <th>4</th>\n",
       "      <td>7</td>\n",
       "      <td>2019</td>\n",
       "      <td>25</td>\n",
       "    </tr>\n",
       "    <tr>\n",
       "      <th>5</th>\n",
       "      <td>9</td>\n",
       "      <td>2019</td>\n",
       "      <td>79</td>\n",
       "    </tr>\n",
       "    <tr>\n",
       "      <th>6</th>\n",
       "      <td>10</td>\n",
       "      <td>2019</td>\n",
       "      <td>11</td>\n",
       "    </tr>\n",
       "    <tr>\n",
       "      <th>7</th>\n",
       "      <td>11</td>\n",
       "      <td>2019</td>\n",
       "      <td>20</td>\n",
       "    </tr>\n",
       "    <tr>\n",
       "      <th>8</th>\n",
       "      <td>13</td>\n",
       "      <td>2019</td>\n",
       "      <td>16</td>\n",
       "    </tr>\n",
       "    <tr>\n",
       "      <th>9</th>\n",
       "      <td>13</td>\n",
       "      <td>2020</td>\n",
       "      <td>9</td>\n",
       "    </tr>\n",
       "    <tr>\n",
       "      <th>10</th>\n",
       "      <td>14</td>\n",
       "      <td>2019</td>\n",
       "      <td>1</td>\n",
       "    </tr>\n",
       "    <tr>\n",
       "      <th>11</th>\n",
       "      <td>14</td>\n",
       "      <td>2020</td>\n",
       "      <td>7</td>\n",
       "    </tr>\n",
       "    <tr>\n",
       "      <th>12</th>\n",
       "      <td>15</td>\n",
       "      <td>2019</td>\n",
       "      <td>21</td>\n",
       "    </tr>\n",
       "    <tr>\n",
       "      <th>13</th>\n",
       "      <td>16</td>\n",
       "      <td>2019</td>\n",
       "      <td>1</td>\n",
       "    </tr>\n",
       "    <tr>\n",
       "      <th>14</th>\n",
       "      <td>17</td>\n",
       "      <td>2019</td>\n",
       "      <td>1</td>\n",
       "    </tr>\n",
       "    <tr>\n",
       "      <th>15</th>\n",
       "      <td>20</td>\n",
       "      <td>2020</td>\n",
       "      <td>5</td>\n",
       "    </tr>\n",
       "    <tr>\n",
       "      <th>16</th>\n",
       "      <td>21</td>\n",
       "      <td>2019</td>\n",
       "      <td>1</td>\n",
       "    </tr>\n",
       "    <tr>\n",
       "      <th>17</th>\n",
       "      <td>22</td>\n",
       "      <td>2019</td>\n",
       "      <td>39</td>\n",
       "    </tr>\n",
       "    <tr>\n",
       "      <th>18</th>\n",
       "      <td>22</td>\n",
       "      <td>2021</td>\n",
       "      <td>14</td>\n",
       "    </tr>\n",
       "    <tr>\n",
       "      <th>19</th>\n",
       "      <td>23</td>\n",
       "      <td>2020</td>\n",
       "      <td>28</td>\n",
       "    </tr>\n",
       "    <tr>\n",
       "      <th>20</th>\n",
       "      <td>23</td>\n",
       "      <td>2021</td>\n",
       "      <td>9</td>\n",
       "    </tr>\n",
       "    <tr>\n",
       "      <th>21</th>\n",
       "      <td>24</td>\n",
       "      <td>2021</td>\n",
       "      <td>1</td>\n",
       "    </tr>\n",
       "    <tr>\n",
       "      <th>22</th>\n",
       "      <td>25</td>\n",
       "      <td>2019</td>\n",
       "      <td>26</td>\n",
       "    </tr>\n",
       "    <tr>\n",
       "      <th>23</th>\n",
       "      <td>25</td>\n",
       "      <td>2021</td>\n",
       "      <td>5</td>\n",
       "    </tr>\n",
       "    <tr>\n",
       "      <th>24</th>\n",
       "      <td>26</td>\n",
       "      <td>2019</td>\n",
       "      <td>11</td>\n",
       "    </tr>\n",
       "    <tr>\n",
       "      <th>25</th>\n",
       "      <td>27</td>\n",
       "      <td>2019</td>\n",
       "      <td>26</td>\n",
       "    </tr>\n",
       "    <tr>\n",
       "      <th>26</th>\n",
       "      <td>27</td>\n",
       "      <td>2020</td>\n",
       "      <td>2</td>\n",
       "    </tr>\n",
       "    <tr>\n",
       "      <th>27</th>\n",
       "      <td>28</td>\n",
       "      <td>2019</td>\n",
       "      <td>40</td>\n",
       "    </tr>\n",
       "    <tr>\n",
       "      <th>28</th>\n",
       "      <td>29</td>\n",
       "      <td>2019</td>\n",
       "      <td>58</td>\n",
       "    </tr>\n",
       "    <tr>\n",
       "      <th>29</th>\n",
       "      <td>30</td>\n",
       "      <td>2019</td>\n",
       "      <td>39</td>\n",
       "    </tr>\n",
       "    <tr>\n",
       "      <th>30</th>\n",
       "      <td>31</td>\n",
       "      <td>2019</td>\n",
       "      <td>15</td>\n",
       "    </tr>\n",
       "  </tbody>\n",
       "</table>\n",
       "</div>"
      ],
      "text/plain": [
       "    Date  Year  Message\n",
       "0      2  2020       18\n",
       "1      2  2021       22\n",
       "2      5  2019        6\n",
       "3      6  2019        1\n",
       "4      7  2019       25\n",
       "5      9  2019       79\n",
       "6     10  2019       11\n",
       "7     11  2019       20\n",
       "8     13  2019       16\n",
       "9     13  2020        9\n",
       "10    14  2019        1\n",
       "11    14  2020        7\n",
       "12    15  2019       21\n",
       "13    16  2019        1\n",
       "14    17  2019        1\n",
       "15    20  2020        5\n",
       "16    21  2019        1\n",
       "17    22  2019       39\n",
       "18    22  2021       14\n",
       "19    23  2020       28\n",
       "20    23  2021        9\n",
       "21    24  2021        1\n",
       "22    25  2019       26\n",
       "23    25  2021        5\n",
       "24    26  2019       11\n",
       "25    27  2019       26\n",
       "26    27  2020        2\n",
       "27    28  2019       40\n",
       "28    29  2019       58\n",
       "29    30  2019       39\n",
       "30    31  2019       15"
      ]
     },
     "execution_count": 61,
     "metadata": {},
     "output_type": "execute_result"
    }
   ],
   "source": [
    "daily_timeline"
   ]
  },
  {
   "cell_type": "code",
   "execution_count": 62,
   "id": "07919dfd",
   "metadata": {},
   "outputs": [],
   "source": [
    "daily_time = []\n",
    "for i in range(daily_timeline.shape[0]):\n",
    "    daily_time.append(str(daily_timeline['Date'][i]) + \"-\" +str(daily_timeline['Year'][i]))\n"
   ]
  },
  {
   "cell_type": "code",
   "execution_count": 63,
   "id": "c739c963",
   "metadata": {},
   "outputs": [],
   "source": [
    "daily_timeline['Time']=daily_time"
   ]
  },
  {
   "cell_type": "code",
   "execution_count": 64,
   "id": "c05bcad8",
   "metadata": {},
   "outputs": [
    {
     "data": {
      "text/html": [
       "<div>\n",
       "<style scoped>\n",
       "    .dataframe tbody tr th:only-of-type {\n",
       "        vertical-align: middle;\n",
       "    }\n",
       "\n",
       "    .dataframe tbody tr th {\n",
       "        vertical-align: top;\n",
       "    }\n",
       "\n",
       "    .dataframe thead th {\n",
       "        text-align: right;\n",
       "    }\n",
       "</style>\n",
       "<table border=\"1\" class=\"dataframe\">\n",
       "  <thead>\n",
       "    <tr style=\"text-align: right;\">\n",
       "      <th></th>\n",
       "      <th>Date</th>\n",
       "      <th>Year</th>\n",
       "      <th>Message</th>\n",
       "      <th>Time</th>\n",
       "    </tr>\n",
       "  </thead>\n",
       "  <tbody>\n",
       "    <tr>\n",
       "      <th>0</th>\n",
       "      <td>2</td>\n",
       "      <td>2020</td>\n",
       "      <td>18</td>\n",
       "      <td>2-2020</td>\n",
       "    </tr>\n",
       "    <tr>\n",
       "      <th>1</th>\n",
       "      <td>2</td>\n",
       "      <td>2021</td>\n",
       "      <td>22</td>\n",
       "      <td>2-2021</td>\n",
       "    </tr>\n",
       "    <tr>\n",
       "      <th>2</th>\n",
       "      <td>5</td>\n",
       "      <td>2019</td>\n",
       "      <td>6</td>\n",
       "      <td>5-2019</td>\n",
       "    </tr>\n",
       "    <tr>\n",
       "      <th>3</th>\n",
       "      <td>6</td>\n",
       "      <td>2019</td>\n",
       "      <td>1</td>\n",
       "      <td>6-2019</td>\n",
       "    </tr>\n",
       "    <tr>\n",
       "      <th>4</th>\n",
       "      <td>7</td>\n",
       "      <td>2019</td>\n",
       "      <td>25</td>\n",
       "      <td>7-2019</td>\n",
       "    </tr>\n",
       "  </tbody>\n",
       "</table>\n",
       "</div>"
      ],
      "text/plain": [
       "   Date  Year  Message    Time\n",
       "0     2  2020       18  2-2020\n",
       "1     2  2021       22  2-2021\n",
       "2     5  2019        6  5-2019\n",
       "3     6  2019        1  6-2019\n",
       "4     7  2019       25  7-2019"
      ]
     },
     "execution_count": 64,
     "metadata": {},
     "output_type": "execute_result"
    }
   ],
   "source": [
    "daily_timeline.head()"
   ]
  },
  {
   "cell_type": "code",
   "execution_count": 65,
   "id": "82e538d8",
   "metadata": {},
   "outputs": [
    {
     "data": {
      "text/plain": [
       "Text(0.5, 1.0, 'Daily Timeline')"
      ]
     },
     "execution_count": 65,
     "metadata": {},
     "output_type": "execute_result"
    },
    {
     "data": {
      "image/png": "[encoded data removed]",
      "text/plain": [
       "<Figure size 864x432 with 1 Axes>"
      ]
     },
     "metadata": {
      "needs_background": "light"
     },
     "output_type": "display_data"
    }
   ],
   "source": [
    "plt.figure(figsize=(12,6))\n",
    "plt.plot(daily_timeline['Time'],daily_timeline['Message'])\n",
    "plt.xticks(rotation='vertical')\n",
    "plt.xlabel('Time',fontsize=16,fontweight='bold')\n",
    "plt.ylabel('Messages',fontsize=16,fontweight='bold')\n",
    "plt.title('Daily Timeline',fontsize=18,fontweight='bold',color='red')"
   ]
  },
  {
   "cell_type": "code",
   "execution_count": 66,
   "id": "2e0fe919",
   "metadata": {},
   "outputs": [],
   "source": [
    "## Analysis of emojis\n",
    "emojis = []\n",
    "for message in data['Message']:\n",
    "    emojis.extend([emojis for emojis in message if emojis in emoji.UNICODE_EMOJI['en']])"
   ]
  },
  {
   "cell_type": "code",
   "execution_count": 67,
   "id": "16bb8131",
   "metadata": {},
   "outputs": [
    {
     "data": {
      "text/plain": [
       "['🙄',\n",
       " '🙄',\n",
       " '🤦',\n",
       " '♀',\n",
       " '🤦',\n",
       " '♀',\n",
       " '😂',\n",
       " '😂',\n",
       " '😂',\n",
       " '😂',\n",
       " '🤣',\n",
       " '🤣',\n",
       " '😂',\n",
       " '😂',\n",
       " '👍',\n",
       " '😜',\n",
       " '😜',\n",
       " '😜',\n",
       " '😜',\n",
       " '😜',\n",
       " '😜',\n",
       " '😜',\n",
       " '😜',\n",
       " '😜',\n",
       " '😜',\n",
       " '😜',\n",
       " '👍',\n",
       " '😒',\n",
       " '😂',\n",
       " '😂',\n",
       " '🤣',\n",
       " '😂',\n",
       " '🤣',\n",
       " '😂',\n",
       " '😂',\n",
       " '😂',\n",
       " '🤣',\n",
       " '😂',\n",
       " '😂',\n",
       " '😂',\n",
       " '🤣',\n",
       " '🤣',\n",
       " '😂',\n",
       " '😂',\n",
       " '😂',\n",
       " '😂',\n",
       " '😂',\n",
       " '😂',\n",
       " '😂',\n",
       " '😂',\n",
       " '😂',\n",
       " '🤣',\n",
       " '😂',\n",
       " '😂',\n",
       " '🤣',\n",
       " '😤',\n",
       " '😤',\n",
       " '😂',\n",
       " '🤣',\n",
       " '😁',\n",
       " '😁',\n",
       " '😁',\n",
       " '😁',\n",
       " '😁',\n",
       " '😁',\n",
       " '😂',\n",
       " '😂',\n",
       " '😂',\n",
       " '🙄',\n",
       " '🙄',\n",
       " '🙄',\n",
       " '🙄',\n",
       " '😊',\n",
       " '🙄',\n",
       " '😂',\n",
       " '😂',\n",
       " '😂',\n",
       " '😂',\n",
       " '😂',\n",
       " '🤪',\n",
       " '🤔',\n",
       " '🤔',\n",
       " '😂',\n",
       " '😂',\n",
       " '😂',\n",
       " '🤤',\n",
       " '🤘',\n",
       " '😂',\n",
       " '😂',\n",
       " '😂',\n",
       " '🤭',\n",
       " '🤭',\n",
       " '🤭',\n",
       " '🤨',\n",
       " '🤨',\n",
       " '🤨',\n",
       " '😀',\n",
       " '😀',\n",
       " '🤬',\n",
       " '🤬',\n",
       " '🤬',\n",
       " '👍',\n",
       " '👍',\n",
       " '🤟',\n",
       " '🏻',\n",
       " '😒',\n",
       " '🤣',\n",
       " '🤣',\n",
       " '🤣',\n",
       " '😂',\n",
       " '😂',\n",
       " '😂',\n",
       " '😂',\n",
       " '🤟',\n",
       " '🏻',\n",
       " '🤩',\n",
       " '🤟',\n",
       " '🏻',\n",
       " '😑',\n",
       " '😒',\n",
       " '🤩',\n",
       " '🥳',\n",
       " '😒',\n",
       " '😑',\n",
       " '😅',\n",
       " '🙄',\n",
       " '😑',\n",
       " '😅',\n",
       " '😬',\n",
       " '😅',\n",
       " '👍',\n",
       " '👍',\n",
       " '👍',\n",
       " '👍',\n",
       " '👍',\n",
       " '👍',\n",
       " '😂',\n",
       " '😇',\n",
       " '😇',\n",
       " '😂',\n",
       " '😂',\n",
       " '🥴',\n",
       " '🤣',\n",
       " '😂',\n",
       " '😂',\n",
       " '😲',\n",
       " '😲',\n",
       " '😅',\n",
       " '😎',\n",
       " '😎',\n",
       " '👍',\n",
       " '🤗',\n",
       " '😂',\n",
       " '💙',\n",
       " '☠',\n",
       " '😂']"
      ]
     },
     "execution_count": 67,
     "metadata": {},
     "output_type": "execute_result"
    }
   ],
   "source": [
    "emojis"
   ]
  },
  {
   "cell_type": "code",
   "execution_count": 68,
   "id": "2c95acce",
   "metadata": {},
   "outputs": [],
   "source": [
    "## Lets Count the emojis\n",
    "emoji_df = pd.DataFrame(Counter(emojis).most_common(len(Counter(emojis))))"
   ]
  },
  {
   "cell_type": "code",
   "execution_count": 69,
   "id": "9c8ec874",
   "metadata": {},
   "outputs": [
    {
     "data": {
      "text/html": [
       "<div>\n",
       "<style scoped>\n",
       "    .dataframe tbody tr th:only-of-type {\n",
       "        vertical-align: middle;\n",
       "    }\n",
       "\n",
       "    .dataframe tbody tr th {\n",
       "        vertical-align: top;\n",
       "    }\n",
       "\n",
       "    .dataframe thead th {\n",
       "        text-align: right;\n",
       "    }\n",
       "</style>\n",
       "<table border=\"1\" class=\"dataframe\">\n",
       "  <thead>\n",
       "    <tr style=\"text-align: right;\">\n",
       "      <th></th>\n",
       "      <th>0</th>\n",
       "      <th>1</th>\n",
       "    </tr>\n",
       "  </thead>\n",
       "  <tbody>\n",
       "    <tr>\n",
       "      <th>0</th>\n",
       "      <td>😂</td>\n",
       "      <td>52</td>\n",
       "    </tr>\n",
       "    <tr>\n",
       "      <th>1</th>\n",
       "      <td>🤣</td>\n",
       "      <td>14</td>\n",
       "    </tr>\n",
       "    <tr>\n",
       "      <th>2</th>\n",
       "      <td>👍</td>\n",
       "      <td>11</td>\n",
       "    </tr>\n",
       "    <tr>\n",
       "      <th>3</th>\n",
       "      <td>😜</td>\n",
       "      <td>11</td>\n",
       "    </tr>\n",
       "    <tr>\n",
       "      <th>4</th>\n",
       "      <td>🙄</td>\n",
       "      <td>8</td>\n",
       "    </tr>\n",
       "  </tbody>\n",
       "</table>\n",
       "</div>"
      ],
      "text/plain": [
       "   0   1\n",
       "0  😂  52\n",
       "1  🤣  14\n",
       "2  👍  11\n",
       "3  😜  11\n",
       "4  🙄   8"
      ]
     },
     "execution_count": 69,
     "metadata": {},
     "output_type": "execute_result"
    }
   ],
   "source": [
    "emoji_df.head()"
   ]
  },
  {
   "cell_type": "code",
   "execution_count": 70,
   "id": "00890d3a",
   "metadata": {},
   "outputs": [
    {
     "data": {
      "text/plain": [
       "0     52\n",
       "1     14\n",
       "2     11\n",
       "3     11\n",
       "4      8\n",
       "5      6\n",
       "6      4\n",
       "7      4\n",
       "8      3\n",
       "9      3\n",
       "10     3\n",
       "11     3\n",
       "12     3\n",
       "13     3\n",
       "14     2\n",
       "15     2\n",
       "16     2\n",
       "17     2\n",
       "18     2\n",
       "19     2\n",
       "20     2\n",
       "21     2\n",
       "22     2\n",
       "23     1\n",
       "24     1\n",
       "25     1\n",
       "26     1\n",
       "27     1\n",
       "28     1\n",
       "29     1\n",
       "30     1\n",
       "31     1\n",
       "32     1\n",
       "Name: 1, dtype: int64"
      ]
     },
     "execution_count": 70,
     "metadata": {},
     "output_type": "execute_result"
    }
   ],
   "source": [
    "emoji_df[1]"
   ]
  },
  {
   "cell_type": "code",
   "execution_count": 71,
   "id": "aa4175bc",
   "metadata": {},
   "outputs": [
    {
     "data": {
      "text/plain": [
       "Text(0.5, 1.0, 'Emojis Analysis')"
      ]
     },
     "execution_count": 71,
     "metadata": {},
     "output_type": "execute_result"
    },
    {
     "data": {
      "image/png": "[encoded data removed]",
      "text/plain": [
       "<Figure size 432x288 with 1 Axes>"
      ]
     },
     "metadata": {},
     "output_type": "display_data"
    }
   ],
   "source": [
    "plt.pie(emoji_df[1].head(),labels=emoji_df[0].head(),autopct=\"%0.2f\")\n",
    "plt.title('Emojis Analysis')"
   ]
  },
  {
   "cell_type": "code",
   "execution_count": 72,
   "id": "15f62c54",
   "metadata": {},
   "outputs": [],
   "source": [
    "## Most repeating number of words in the messages\n",
    "text=data[data['Message'] != '<Media omitted>']"
   ]
  },
  {
   "cell_type": "code",
   "execution_count": 73,
   "id": "a1a9f5d5",
   "metadata": {},
   "outputs": [
    {
     "name": "stdout",
     "output_type": "stream",
     "text": [
      "Are ye pps wali mam ab kyu bula rhi h lab k liye\n",
      "Workshop ki class h koi bta do use\n",
      "Pps ka class kb se hai\n",
      "Lb lg ri h kya Pps ki???🙄\n",
      "Haa ja jldi\n",
      "Workshop ki class lgri hai filhal\n",
      "Okh\n",
      "Koi notice regarding lab🙄\n",
      "Bhai tu soja acha rhega\n",
      "🤦‍♀🤦‍♀\n",
      "😂😂😂😂\n",
      "🤣🤣😂😂\n",
      "Kl lgalenge lab grp 2 ke saath\n",
      "Nhi yrr\n",
      "Aaj lagenge\n",
      "Aaj hi lgate h\n",
      "Haa\n",
      "👍\n",
      "😜😜😜😜😜😜  *नेता* - हाँ. अब सही समय आ गया है. *जनता* - क्या आप देश को लूट खाओगे ? *नेता* - बिल्कुल नही. *जनता* - हमारे लिए काम करोगे ? *नेता* - हाँ.  बहुत. *जनता*  -  महगांई बढ़ाओगे ? *नेता*  -  इसके बारे में तो सोचो भी मत *जनता*  - आप हमे जॉब दिलाने में मदद  करोगे ? *नेता* -  हाँ. बिल्कुल करेँगे. *जनता*  -  क्या आप देश मे घोटाला करोगे ? *नेता* - पागल हो गए हो क्या बिलकुल नहीं. *जनता* - क्या हम आप पर भरोसा कर सकते हैं ? *नेता*   - हाँ *जनता*  - नेता जी ...  *चुनाव जीतकर नेताजी वापस आये*  *अब आप, नीचे से ऊपर पढ़ो.* 😜😜😜😜😜 @Desi_Hindi_Jokes\n",
      "Kal pps ki lab sab grp ki 11 to 1 bje\n",
      "Pps ki class ki timing Kiya h ajjj\n",
      "Waiting for this message\n",
      "Nhi\n",
      "Yrr\n",
      "Kuch nhi hai aaj\n",
      "Waiting for this message\n",
      "Waiting for this message\n",
      "Yes\n",
      "Waiting for this message\n",
      "Class k liye tym nhi hota ....what's the tym of tomorrow's  class?\n",
      "Ask like that\n",
      "Waiting for this message\n",
      "Btw 10\n",
      "Am\n",
      "English vali mam ne bola hai ki Hume 10 internal marks k liye ek chart banana hai ...kisi bhi topic pr grammar k .....or submit kra dena sessional k beech m ....\n",
      "Mam ne kha hai ki jisne chart nhi banaya usk 10 no nhi lgege ...chart kaisa bhi banao aacha sa bura but banana hai or submit krna hai....sab ko 10 no milenge ....otherwise nhi milenge\n",
      "Workshop ki class me aa jai\n",
      "Jao\n",
      "Jise lagani ho\n",
      "Kisi ka kl Evs ka ppr ho toh usko snd kardo👍\n",
      "Ere oh devta ya h ghor te dekh kha date h yape\n",
      "😒isi se related aata h or repeat hota h ppr evs ka\n",
      "Aacho\n",
      "Phale paper kai ko h\n",
      "Waiting for this message\n",
      "Kab dena hai chart mam se puch le\n",
      "Waiting for this message\n",
      "Waiting for this message\n",
      "Okk\n",
      "Ok\n",
      "Ulthi photo h\n",
      "Sidhe kar lena\n",
      "Sbko same ni bnana bhai\n",
      "Ha pata hai\n",
      "Or kisi ne banaya ho vo bhi bhej do\n",
      "Waiting for this message\n",
      "CSE ? Me bhej de\n",
      "Waiting for this message\n",
      "Ma bhej du\n",
      "Kha h u\n",
      "Kuch nahi hua\n",
      "Chemistry ka practical sunday ko hai 9 bje se\n",
      "Ok\n",
      "Pps Ka practical Monday ko hai Poonam Ma’am me kaha\n",
      "Waiting for this message\n",
      "Kuch ni h aaj\n",
      "Yup\n",
      "This message was deleted\n",
      "This is not for uss guys\n",
      "Upper dekho except b.tech likha h\n",
      "Oh sryy\n",
      "Uss gitanshu nhi send kiya hoga 😂😂\n",
      "Ne*\n",
      "Fir darke delete krne wali kya baat h yr? @918930822375\n",
      "Nhiii\n",
      "Nhi derii nhi...mujhe lga koi aur isse aage frwd na krde.. bekaar me confusion create ho jaati\n",
      "Vo to forward kar bhi dia\n",
      "Abhishek ne\n",
      "Dusre group me\n",
      "🤣😂🤣😂😂\n",
      "Iss great kaam ki jad vhi hi😂\n",
      "Ussi ne bhja tha gitanshu ko bhi🤣\n",
      "Kyu kre register? Zrruri hai?\n",
      "Na ni hai zaruri\n",
      "Ok\n",
      "Kurukshetra University ka h\n",
      "This message was deleted\n",
      "Result aa gya hai\n",
      "Check krlo\n",
      "Ooe tu to kehti thi main kuch nhi pdhti\n",
      "Fr top kese\n",
      "When did I said mai kuch nahi pdtii....\n",
      "Maine ye zaroor kaha itna pdlia hai ..n Abhi bcha hai aur\n",
      "Ha isne kbhi ye nhi khaa isne kuch nhi pdha....ye bolti hai ise kuch nhi aata😂😂😂🤣🤣\n",
      "Say*\n",
      "Fuck off\n",
      "😂\n",
      "This message was deleted\n",
      "This message was deleted\n",
      "What happened Pratibha 😂😂😂\n",
      "😂 Kyu badnam kr rhe ho ek doosre ko 😂\n",
      "😂😂😂🤣\n",
      "Badnaam hone ke liye naam bhi ho kahin pr\n",
      "😂😂🤣\n",
      "Are ye badnaamii thodi hai\n",
      "Pyaar hai humaaraaa😤😤\n",
      "Are ye maine isliye msg kia tha taaki tu serious na ho jaaye...mjak tha wo😂🤣\n",
      "Very guddd\n",
      "😁😁😁heeeeee😁😁😁\n",
      "Pyar me kse dhua nikl rha h ek no. Ka h ye\n",
      "Haa 😂😂\n",
      "Ajj uiet close h\n",
      "Toh\n",
      "Hai to hai. Toh kya\n",
      "Saturday hai toh ovio office bnd hi hoga\n",
      "Pls say all of students of your class to make email id on gmail in given format  rollnoname@gmail.com  (specify your class rollono and first name)  This is for using google classroom app for study purpose in Maths III,  III Sem paper\n",
      "Please forward it and do make a emai id in the given format asap\n",
      "Information is genuine and is given by Garima Mam\n",
      "Kaun Kaun aayega DS ki lab me\n",
      "Mei nhi aa rhi\n",
      "Mei bhi nhi aa rhi\n",
      "Agr koi gya hua Mila Vo kl milna phir\n",
      "M jaa rhi hun\n",
      "Kon kon aa rha h fir final bato\n",
      "@918290146660 @919306704595 @918930822375 @\n",
      "Mei na aa rhi\n",
      "Main jaunga\n",
      "M b\n",
      "Okay mai bhi nahi  aa raha\n",
      "Aa rhe hai aa rhe hai\n",
      "Kon aa raha hai mention kar do\n",
      "Kisko? Tujhe?\n",
      "Nahi jo aa raha hai\n",
      "M bhi  aarha hu\n",
      "Mei bhi aa jaungi\n",
      "😂\n",
      "Lab kon se room m h\n",
      "Upar wale\n",
      "Room no bta de\n",
      "211\n",
      "Thanks\n",
      "Aaj de ki lab h kya\n",
      "Nahi ha today kohi lab\n",
      "@919306258017 Bta mansi  tu b\n",
      "Jaaye gi kya\n",
      "Dekhungi m ...not fix bro yet\n",
      "Shyd se bola gya tha aaj lab nhi hogi🙄🙄🙄🙄\n",
      "Vo computer valo k liye hai yrr.....DE ki lab my computer use nhi hone\n",
      "😊\n",
      "Lab lab hoti hai\n",
      "Okay\n",
      "🙄\n",
      "This message was deleted\n",
      "I don't think aaj lab hogi\n",
      "Ek kaam kr skte hai call kr.lo\n",
      "@918814878204 plz tum kr lo ek baar call pr confirm kr lo\n",
      "Or*\n",
      "Bolo @918814878204 ???\n",
      "Kr rhe ho call ya nhi ??\n",
      "Meri sir se baat ho gyi hai ....aaj lab lgegi\n",
      "Jisko aana hai aa jana\n",
      "DE me h kya?\n",
      "Kon aa rha h aaj lab me??\n",
      "M aa rhi hun\n",
      "@918814878204 tu toh mnaa kr rhaa thaa lb ki yr\n",
      "Ha\n",
      "Kl subh bi h lab kl chl pdege aaj rhne do\n",
      "Ga\n",
      "Ha*\n",
      "Hmm\n",
      "Baki bi bta do Kl k liye kon kon haa bol rha h\n",
      "Kl subh ki cancel ho skti hai aaj aagr chle jaye tph\n",
      "Nahi hm kl lgwa lenge aaj rhne do\n",
      "Or kya pta sir bol de ki subh nhi lgegi\n",
      "Kal chale jayege na!!!...\n",
      "Are aajao kl grp 2 ki bi thi\n",
      "15-20 mint me hi chlegye the\n",
      "Itna hi time lgega\n",
      "Ha\n",
      "Kon kon aa rha h aaj lab\n",
      "Today is no lab\n",
      "Class?\n",
      "Are sbko tagore Audi aana hai abhi\n",
      "Auditorium mei abhi kaun aaya tha bta do\n",
      "Sab hain\n",
      "Aaj*\n",
      "Abi bhi yahin h\n",
      "Naam bta do\n",
      "Me\n",
      "With roll no.\n",
      "21502,09,06,07,20,10\n",
      "03 toh rh hi gya😂😂😂😂\n",
      "😂pta nhi kaise rh jata hai yhe humesha 🤪\n",
      "21513\n",
      "21514\n",
      "21516\n",
      "Wirte your roll no in series on a paper @918290146660\n",
      "Ohk\n",
      "Your mtlb\n",
      "Tera nhi likhna\n",
      "🤔🤔\n",
      "Mera bhi likhna hai na\n",
      "😂😂😂\n",
      "Muskil h tere Kuch hona\n",
      "19also\n",
      "1st grp ki Python ki aaj lab nhi h\n",
      "Abi baat hui h mam se\n",
      "🤤\n",
      "Sbko bta Dio\n",
      "Kya news di bhai! Thanks 🤘\n",
      "Sab yahin h 😂\n",
      "😂😂\n",
      "Phele hi pata tha muje nahi lagegi aaj lab\n",
      "Asi news to sbse phle Debi Chahiye\n",
      "Kya kru arti utaru teri\n",
      "Ha sahi baat hai yeah toh\n",
      "Bta Sunni h Teri wali English me utaruga teri\n",
      "🤭🤭🤭\n",
      "5,8,11,12,17,30,31,13\n",
      "Yeah kya hai\n",
      "Ye bande jinhone class lagayi h\n",
      "Aaj\n",
      "Konsi class lagayi ha aaj\n",
      "Are kya bol rha h konsi class lga li\n",
      "🤨🤨🤨\n",
      "Puch le isse\n",
      "To ye msg Isliye Kia h mne Tera bich me bolna jarori h\n",
      "😀😀\n",
      "Tuje smjh nhi aata ya Tu smjhna nhi Chahta Dimak khulva le khi ja k\n",
      "🤬🤬🤬\n",
      "Koi class h\n",
      "2 baje k baad\n",
      "???\n",
      "Nhi h\n",
      "Dbms ki lab hai aaj ?????\n",
      "Puchlo jiske pass no. Ho\n",
      "No dbms lab today\n",
      "Sir said to me aaj off rakh te hai lab\n",
      "Eco ki class h kya nhi???\n",
      "Abhi tak toh nahi pata\n",
      "Phone karle mam ko\n",
      "Karlo yaar tum\n",
      "Kavita Malik Mam Economics.vcf (file attached)\n",
      "Sunno kal subhe de ki  lab lagayege\n",
      "Mtlb aaj nhi h na\n",
      "Ha sahi ha\n",
      "Hum aaj lga n rhe\n",
      "Ohkk\n",
      "Ok cr\n",
      "Okay\n",
      "Aaenge aj\n",
      "5,8,11\n",
      "Kal aa jana\n",
      "Mtlb tumhe class k sath kbi chlna hi nhi h\n",
      "Aj he aaenge\n",
      "This message was deleted\n",
      "Kal aa jana\n",
      "Kya krega aaj aakr\n",
      "Jb Baki 16-17 bche mna kr rhe h\n",
      "Are koi ni a raha\n",
      "Thik h\n",
      "Okay 👍👍\n",
      "No python lab because mam change ho hayi so next week lagegi python lab\n",
      "Yhi krte rhege\n",
      "Shi h\n",
      "DBMS ki lab lunch ke baad hi lgegi\n",
      "Okay\n",
      "Ok\n",
      "2-4 dbms ki lab hai\n",
      "Jis room mei class lgti hai whi aana hai🤟🏻\n",
      "Ok\n",
      "Aaoge tum?\n",
      "Hum nhi jaa rhe\n",
      "Phle Kisi grp ki lgi h\n",
      "Kitna time lgega pta h kisi ko\n",
      "Ha\n",
      "😒\n",
      "Thik h attendance lgva dena Roll no. 16\n",
      "Ha zarur\n",
      "Haa Yaad rkhio 2 toffee pkaa Teri h\n",
      "Lab h DBMS ki\n",
      "???\n",
      "Aja\n",
      "Kha aano h\n",
      "Class mei jahan class lgti hai\n",
      "Class kha lage h\n",
      "Ds ki lab h aj\n",
      "Hai\n",
      "Kaun kaun aaega ds ki lab mei\n",
      "Are bataoooooo ?????\n",
      "Mein ni aungi\n",
      "Haa aayege\n",
      "Jaror aayege\n",
      "This message was deleted\n",
      "not coming\n",
      "Same here\n",
      "Kon kon aa rha h Jldi btao ??\n",
      "Not coming\n",
      "Not coming\n",
      "Not coming\n",
      "Not coming\n",
      "Khaa lg rii h lb\n",
      "Sun oye ab agr koi gya to\n",
      "Khi na lg rhi h ghr hole\n",
      "Tere order Ki jrurt nhi h\n",
      "🤣🤣🤣\n",
      "Tuje order dene ki jarort muje vse bi nhi h\n",
      "Lga ja\n",
      "😂😂😂😂 koi baat naa hojaaayaaa kre\n",
      "Na lagata lbb🤟🏻\n",
      "Python ki lab nahi hai\n",
      "Okay\n",
      "Hey Guys, *Abobe* is providing free software to students of MDU. So we need a proper student data to forward to Adobe. So guys *fill this form*  https://docs.google.com/forms/d/e/1FAIpQLSfQb2IAYDba4JK5x4RNkZIOh2M7tRIDeYynYEiY8cSBTc-qXg/viewform\n",
      "Those who have registered with this link have got the email by *ADOBE SPARK* by now. Spark suit ke saare softwares acccesible hain for free! Go use it! 🤩\n",
      "Guy's kon interested hai for De lab tommrow 9 am to 11 am????\n",
      "Choice h?\n",
      "Koi Attendance lgata hoto btao ?\n",
      "Ha ha🤟🏻\n",
      "Mai n Aksha toh aayge\n",
      "Mai bhi\n",
      "To Kal Python ki bhi to lab h.?\n",
      "Combined ya esa kuch\n",
      "Bhai python lecture combined hai Cse 1 and Cse 2 dono\n",
      "No DBMS lab today\n",
      "Attendance dedooo sbhiii\n",
      "21512\n",
      "16\n",
      "21513\n",
      "21509\n",
      "21507\n",
      "10\n",
      "03\n",
      "20\n",
      "@918930822375\n",
      "1-20 sbki lga de na\n",
      "Pagal hori\n",
      "5,8,11,17\n",
      "1,2,3,4,5,6,7,8,9,10,11,12,13,14,15,16,17,18,19,20\n",
      "21501\n",
      "21514\n",
      "Lb lg rhii h kya\n",
      "Nhi\n",
      "Lg ri ho toh attendance lgaa deo 19\n",
      "abb DE ki lab diwali k baaf lgegi\n",
      "Baad*\n",
      "😑😒\n",
      "🤩🥳\n",
      "Ds ki lab h aaj????\n",
      "Na h\n",
      "Ok\n",
      "Ok\n",
      "kl DBMS ki koi lab nhi hai\n",
      "Wednesday Ko lgegii lab DBMS ki.....3 group ke saath...... At *2 pm*\n",
      "Okay\n",
      "Cool\n",
      "Jaa rha h koi?\n",
      "Lab?\n",
      "Nhiiiiii\n",
      "Mein jaa rahi hu\n",
      "Aaj koi lab hai hi nhi\n",
      "😒\n",
      "Aapni DS ki lab ...monday subh shift ho gyi hai yrr ...kitni baar bole tumhe 😑\n",
      "Nahi jate fir😅\n",
      "Ye baat lab lgane se pehle bhi bol dia kr ek baar🙄😑\n",
      "Bhuut phle bol rkha hai ...dhyaan de liya kro thida\n",
      "Thoda *\n",
      "Chal chod\n",
      "Ha thik hai\n",
      "Ldo mt\n",
      "Badia hai\n",
      "Pta nhi kha soye rhte ho\n",
      "Ha ha\n",
      "Thik hai\n",
      "Sahi mein😅\n",
      "Hm so rhe hai\n",
      "Today no python lab mam leave par hai\n",
      "Attendance dedo DBMS ki lab ki\n",
      "Meri\n",
      "21509\n",
      "21514\n",
      "21501\n",
      "03\n",
      "21505\n",
      "21508,21511\n",
      "21507,21510\n",
      "21520\n",
      "21517\n",
      "This message was deleted\n",
      "Aaj DBMS ki lab nhi hai\n",
      "Kl dbms ki lab h kya @918930822375\n",
      "Hnn sir kh toh rhe the ....kl poocha tha toh\n",
      "Ki lgegiii\n",
      "Baaki for latest updates....let's see tomorrow\n",
      "😬\n",
      "Lab h?\n",
      "Nhi\n",
      "All  ist  group students kindly come for their  Economics presentation on Monday 12 pm. On Behalf Of Kavita Mam\n",
      "Jo aaj subhe aaya tha woh apna roll no.  Plus naam bta do\n",
      "Aksha 21509\n",
      "ABHISHEK 21513\n",
      "21510- pratibha 21502- prerna\n",
      "21520- mansi\n",
      "21501 Aakash\n",
      "21506 ashesha\n",
      "21504 isha\n",
      "21505 Laxman\n",
      "21508 Kartikey\n",
      "21512 sajan\n",
      "Nishant 21503\n",
      "21517\n",
      "Vineet\n",
      "21511 abhishek\n",
      "21519\n",
      "Wt ki lbh aaj?\n",
      "Nhi hai\n",
      "Oops lab at 2pm???\n",
      "Nhii aa rhe\n",
      "Koa aayega\n",
      "Manoj tu hi milta h sbse phle\n",
      "M aaungi\n",
      "Ok\n",
      "No oops lab today\n",
      "Kl lgegi\n",
      "Thanks 😅\n",
      "Wt lab hai Tomorrow At 11 am???\n",
      "And Wbt Ob class???\n",
      "Tuesday ko lab nhi lgi it means ki Saturday ko lgegi\n",
      "But m ek baar msg kr deti hun mam ko ...confirm krne k lie ...jaise hi reply aata hai ...will let u know\n",
      "Okay 👍👍👍\n",
      "Yes there will be lab tomorrow for WT\n",
      "Okay 👍👍👍\n",
      "Oops ki lab nhi hai\n",
      "Ok\n",
      "No oops lab today\n",
      "Ok\n",
      "Dear students... you have to submit pdf or image file of your practical exam in the above given link\n",
      "Are espe submit krni h na file\n",
      "Haa\n",
      "1-10 ka hoja to question send krdio\n",
      "Krdo koa to yrr\n",
      "😂\n",
      "What is Css, Types. Form,  img, table tag\n",
      "Bas ek question sab se puch rhi thi\n",
      "Ok thanku\n",
      "😇😇\n",
      "What is HTML\n",
      "😂 Ye bhi tha\n",
      "lg rha h pta sath sath\n",
      "😂\n",
      "What is frame\n",
      "Inter and intra link\n",
      "To divide web browser into\n",
      "Multiple parts\n",
      "Holia ib to\n",
      "Ho gya sab ka first group ka\n",
      "Same hi h sbke\n",
      "🥴\n",
      "Question sbke same pooche\n",
      "Jo humse pooche theee\n",
      "Vhi hi the\n",
      "Sbse yhi 4-5 question puch re h\n",
      "Hrr baar yhi krti h mam\n",
      "🤣\n",
      "Haan😂\n",
      "Bhdk h kch ni ho skta\n",
      "Iska\n",
      "Kon kon Aalie hostel rtk me ??\n",
      "M\n",
      "😂\n",
      "Meri attendance lgva diyo\n",
      "Aayega toh lgva denge\n",
      "😲😲\n",
      "Kal kon kon lab  attend kregam\n",
      "Mai Pratibha Aksha nhi aarey\n",
      "😅agr nahi aarhe toh sab hi mt aao ..?\n",
      "I also agree\n",
      "Nhi dekhlo phir khin koi Jake attendance lga aae\n",
      "Hnn agr koi ik* bhi aarha hai toh bhtado do honjaenge\n",
      "Agle week pdenge ya labs lgaynge\n",
      "Iss week lga lete h ....3rd grp bhi pura aa rha h.\n",
      "Baki tumhari mrzi...\n",
      "Or 1 din hi labs lgni h sabki....isliye jyda mama hum na hi bne toh acha hoga apne grp k liye\n",
      "Ab MP ka hogya Java wale me bola tha next week lga lena\n",
      "To jo abi nhi aaya aram se aao Koi jldi ni h\n",
      "Or jisko jana h vo jao aram se clg\n",
      "Bhai tu hi best baat bolta h hmesha 😎😎\n",
      "Yeah ..good boi👍🤗\n",
      "This message was deleted\n",
      "This message was deleted\n",
      "This message was deleted\n",
      "This message was deleted\n",
      "suno sab...mp or cn ki file kaise bnani hai\n",
      "This message was deleted\n",
      "btw sorry ...mujhe lga urmi issi grp m hai 😂\n",
      "Amita mam ne Project Report submit krne ki koi deadline di h?\n",
      "Abhi tkk toh nhi\n",
      "Okok. Thanks 💙\n",
      "Kal k liye ppt bnayi h kya sab ne ?\n",
      "Baki na link aaya na khi bola hua\n",
      "Submit krna kha h ☠️\n",
      "😂 Hn vo bhi hai\n",
      "Iss group mei sab apne roll no.  With project name likh dena\n",
      "Umesh-21519 air quality predictor\n",
      "Pratibha Jain 21510 Online Furniture Store\n",
      "Laxman singh 21505 , Fligh fare predictor\n",
      "Aksha Malik 21509 Prerna Kumari 21502- Cyber Hunt Challenge\n",
      "Kartikay-21508, Housing price predictor\n",
      "Abhishek  21511, Sales analysis dashboard\n",
      "Ashish-21516 Manoj-21514 Project- E - Application\n",
      "Aakash 21501 Project - EZ wash app\n",
      "Vineet 21517 Ethical hacking\n",
      "Roll no.  3, 4,13,15,18 Apna project name send kar do\n",
      "Project name=android app (jind terrace) Students name = nikhil yadav (21531) Bhavi yadav (21530) Vineet (21517)\n",
      "21503 Pet Met\n",
      "Yeh final h\n",
      "Roll no. 15 and 18 ne presentation nhi di thi na??\n"
     ]
    }
   ],
   "source": [
    "for i in text['Message']:\n",
    "    print(i)"
   ]
  },
  {
   "cell_type": "code",
   "execution_count": 74,
   "id": "9c8003ae",
   "metadata": {},
   "outputs": [],
   "source": [
    "word_cloud = WordCloud(collocations = False, background_color = 'white').generate(text['Message'].str.cat(sep=\" \"))"
   ]
  },
  {
   "cell_type": "code",
   "execution_count": 75,
   "id": "ace33d25",
   "metadata": {},
   "outputs": [
    {
     "data": {
      "image/png": "[encoded data removed]",
      "text/plain": [
       "<Figure size 864x504 with 1 Axes>"
      ]
     },
     "metadata": {
      "needs_background": "light"
     },
     "output_type": "display_data"
    }
   ],
   "source": [
    "plt.figure(figsize=(12,7))\n",
    "plt.imshow(word_cloud, interpolation='bilinear')\n",
    "plt.axis(\"off\")\n",
    "plt.show()"
   ]
  }
 ],
 "metadata": {
  "kernelspec": {
   "display_name": "Python 3",
   "language": "python",
   "name": "python3"
  },
  "language_info": {
   "codemirror_mode": {
    "name": "ipython",
    "version": 3
   },
   "file_extension": ".py",
   "mimetype": "text/x-python",
   "name": "python",
   "nbconvert_exporter": "python",
   "pygments_lexer": "ipython3",
   "version": "3.9.7"
  }
 },
 "nbformat": 4,
 "nbformat_minor": 5
}
